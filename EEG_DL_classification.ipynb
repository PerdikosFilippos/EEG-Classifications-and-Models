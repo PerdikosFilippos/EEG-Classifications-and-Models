{
  "nbformat": 4,
  "nbformat_minor": 0,
  "metadata": {
    "colab": {
      "provenance": [],
      "gpuType": "T4",
      "authorship_tag": "ABX9TyP+ULOPR7rdGFjVxR18aCAb",
      "include_colab_link": true
    },
    "kernelspec": {
      "name": "python3",
      "display_name": "Python 3"
    },
    "language_info": {
      "name": "python"
    },
    "accelerator": "GPU"
  },
  "cells": [
    {
      "cell_type": "markdown",
      "metadata": {
        "id": "view-in-github",
        "colab_type": "text"
      },
      "source": [
        "<a href=\"https://colab.research.google.com/github/PerdikosFilippos/EEG-Classifications-and-Models/blob/main/EEG_DL_classification.ipynb\" target=\"_parent\"><img src=\"https://colab.research.google.com/assets/colab-badge.svg\" alt=\"Open In Colab\"/></a>"
      ]
    },
    {
      "cell_type": "code",
      "execution_count": 13,
      "metadata": {
        "id": "wFk8C55Ul-M0"
      },
      "outputs": [],
      "source": [
        "import tensorflow as tf\n",
        "physical_devices = tf.config.list_physical_devices('GPU')\n",
        "tf.config.experimental.set_memory_growth(physical_devices[0], enable=True)"
      ]
    },
    {
      "cell_type": "code",
      "source": [
        "%%capture\n",
        "!pip install mne"
      ],
      "metadata": {
        "id": "zg0FlQkKoJ0C"
      },
      "execution_count": 14,
      "outputs": []
    },
    {
      "cell_type": "code",
      "source": [
        "from glob import glob\n",
        "import os\n",
        "import mne\n",
        "import numpy as np\n",
        "import matplotlib.pyplot as plt\n",
        "import pandas as pd"
      ],
      "metadata": {
        "id": "ZHui0fEkoHiL"
      },
      "execution_count": 15,
      "outputs": []
    },
    {
      "cell_type": "code",
      "source": [
        "#read all file\n",
        "all_files_path=glob('dataverse_files/*.edf')\n",
        "print(len(all_files_path))"
      ],
      "metadata": {
        "colab": {
          "base_uri": "https://localhost:8080/"
        },
        "id": "_yCV0FVeoWDq",
        "outputId": "c4402a70-bb57-431a-dcbb-e2a375e7c25a"
      },
      "execution_count": 16,
      "outputs": [
        {
          "output_type": "stream",
          "name": "stdout",
          "text": [
            "28\n"
          ]
        }
      ]
    },
    {
      "cell_type": "code",
      "source": [
        "all_files_path[0]"
      ],
      "metadata": {
        "colab": {
          "base_uri": "https://localhost:8080/",
          "height": 35
        },
        "id": "ZdloMk2moXjN",
        "outputId": "cd97ebc1-17e8-403f-dcdb-62cc6a678b4b"
      },
      "execution_count": 17,
      "outputs": [
        {
          "output_type": "execute_result",
          "data": {
            "text/plain": [
              "'dataverse_files/h08.edf'"
            ],
            "application/vnd.google.colaboratory.intrinsic+json": {
              "type": "string"
            }
          },
          "metadata": {},
          "execution_count": 17
        }
      ]
    },
    {
      "cell_type": "code",
      "source": [
        "healthy_file_path=[i for i in all_files_path if  'h' in i.split('/')[-1]]\n",
        "patient_file_path=[i for i in all_files_path if  's' in i.split('/')[-1]]"
      ],
      "metadata": {
        "id": "eE2iQDvHoZHE"
      },
      "execution_count": 18,
      "outputs": []
    },
    {
      "cell_type": "code",
      "source": [
        "def read_data(file_path):\n",
        "    datax=mne.io.read_raw_edf(file_path,preload=True)\n",
        "    datax.set_eeg_reference()\n",
        "    datax.filter(l_freq=1,h_freq=45)\n",
        "    epochs=mne.make_fixed_length_epochs(datax,duration=25,overlap=0)\n",
        "    epochs=epochs.get_data()\n",
        "    return epochs #trials,channel,length"
      ],
      "metadata": {
        "id": "LSGP5fn5ocGb"
      },
      "execution_count": 19,
      "outputs": []
    },
    {
      "cell_type": "code",
      "source": [
        "data=read_data(healthy_file_path[0])"
      ],
      "metadata": {
        "colab": {
          "base_uri": "https://localhost:8080/"
        },
        "id": "cP5UzO6doeZs",
        "outputId": "57e17240-7ee2-48e4-f37d-7546f2d08926"
      },
      "execution_count": 20,
      "outputs": [
        {
          "output_type": "stream",
          "name": "stdout",
          "text": [
            "Extracting EDF parameters from /content/dataverse_files/h08.edf...\n",
            "EDF file detected\n",
            "Setting channel info structure...\n",
            "Creating raw.info structure...\n",
            "Reading 0 ... 227499  =      0.000 ...   909.996 secs...\n",
            "EEG channel type selected for re-referencing\n",
            "Applying average reference.\n",
            "Applying a custom ('EEG',) reference.\n",
            "Filtering raw data in 1 contiguous segment\n",
            "Setting up band-pass filter from 1 - 45 Hz\n",
            "\n",
            "FIR filter parameters\n",
            "---------------------\n",
            "Designing a one-pass, zero-phase, non-causal bandpass filter:\n",
            "- Windowed time-domain design (firwin) method\n",
            "- Hamming window with 0.0194 passband ripple and 53 dB stopband attenuation\n",
            "- Lower passband edge: 1.00\n",
            "- Lower transition bandwidth: 1.00 Hz (-6 dB cutoff frequency: 0.50 Hz)\n",
            "- Upper passband edge: 45.00 Hz\n",
            "- Upper transition bandwidth: 11.25 Hz (-6 dB cutoff frequency: 50.62 Hz)\n",
            "- Filter length: 825 samples (3.300 s)\n",
            "\n",
            "Not setting metadata\n",
            "36 matching events found\n",
            "No baseline correction applied\n",
            "0 projection items activated\n",
            "Using data from preloaded Raw for 36 events and 6250 original time points ...\n",
            "0 bad epochs dropped\n"
          ]
        },
        {
          "output_type": "stream",
          "name": "stderr",
          "text": [
            "[Parallel(n_jobs=1)]: Done  17 tasks      | elapsed:    0.1s\n"
          ]
        }
      ]
    },
    {
      "cell_type": "code",
      "source": [
        "%%capture\n",
        "control_epochs_array=[read_data(subject) for subject in healthy_file_path]\n",
        "patients_epochs_array=[read_data(subject) for subject in patient_file_path]"
      ],
      "metadata": {
        "id": "gPfvG99NohM8"
      },
      "execution_count": 21,
      "outputs": []
    },
    {
      "cell_type": "code",
      "source": [
        "control_epochs_labels=[len(i)*[0] for i in control_epochs_array]\n",
        "patients_epochs_labels=[len(i)*[1] for i in patients_epochs_array]\n",
        "print(len(control_epochs_labels),len(patients_epochs_labels))"
      ],
      "metadata": {
        "colab": {
          "base_uri": "https://localhost:8080/"
        },
        "id": "ua5D6EqYoj17",
        "outputId": "397c7dc6-74a2-4a77-cb59-3d2956302fff"
      },
      "execution_count": 22,
      "outputs": [
        {
          "output_type": "stream",
          "name": "stdout",
          "text": [
            "14 14\n"
          ]
        }
      ]
    },
    {
      "cell_type": "code",
      "source": [
        "data_list=control_epochs_array+patients_epochs_array\n",
        "label_list=control_epochs_labels+patients_epochs_labels\n",
        "print(len(data_list),len(label_list))"
      ],
      "metadata": {
        "colab": {
          "base_uri": "https://localhost:8080/"
        },
        "id": "-pJThpeRpB8s",
        "outputId": "2cfc29b5-38ee-44a8-ebfd-531b778cfa9d"
      },
      "execution_count": 23,
      "outputs": [
        {
          "output_type": "stream",
          "name": "stdout",
          "text": [
            "28 28\n"
          ]
        }
      ]
    },
    {
      "cell_type": "code",
      "source": [
        "groups_list=[[i]*len(j) for i, j in enumerate(data_list)]\n"
      ],
      "metadata": {
        "id": "j4voW-JQp3zM"
      },
      "execution_count": 24,
      "outputs": []
    },
    {
      "cell_type": "code",
      "source": [
        "data_array=np.vstack(data_list)\n",
        "label_array=np.hstack(label_list)\n",
        "group_array=np.hstack(groups_list)\n",
        "data_array=np.moveaxis(data_array,1,2)\n",
        "\n",
        "print(data_array.shape,label_array.shape,group_array.shape)"
      ],
      "metadata": {
        "colab": {
          "base_uri": "https://localhost:8080/"
        },
        "id": "s7uxg6lFp4HT",
        "outputId": "1cdc0be1-4365-4a0e-a47d-3fa674bd2f43"
      },
      "execution_count": 25,
      "outputs": [
        {
          "output_type": "stream",
          "name": "stdout",
          "text": [
            "(1142, 6250, 19) (1142,) (1142,)\n"
          ]
        }
      ]
    },
    {
      "cell_type": "code",
      "source": [
        "from tensorflow.keras.layers import Conv1D,BatchNormalization,LeakyReLU,MaxPool1D,\\\n",
        "GlobalAveragePooling1D,Dense,Dropout,AveragePooling1D\n",
        "from tensorflow.keras.models import Sequential\n",
        "from tensorflow.keras.backend import clear_session\n",
        "def cnnmodel():\n",
        "    clear_session()\n",
        "    model=Sequential()\n",
        "    model.add(Conv1D(filters=5,kernel_size=3,strides=1,input_shape=(6250,19)))#1\n",
        "    model.add(BatchNormalization())\n",
        "    model.add(LeakyReLU())\n",
        "    model.add(MaxPool1D(pool_size=2,strides=2))#2\n",
        "    model.add(Conv1D(filters=5,kernel_size=3,strides=1))#3\n",
        "    model.add(LeakyReLU())\n",
        "    model.add(MaxPool1D(pool_size=2,strides=2))#4\n",
        "    model.add(Dropout(0.5))\n",
        "    model.add(Conv1D(filters=5,kernel_size=3,strides=1))#5\n",
        "    model.add(LeakyReLU())\n",
        "    model.add(AveragePooling1D(pool_size=2,strides=2))#6\n",
        "    model.add(Dropout(0.5))\n",
        "    model.add(Conv1D(filters=5,kernel_size=3,strides=1))#7\n",
        "    model.add(LeakyReLU())\n",
        "    model.add(AveragePooling1D(pool_size=2,strides=2))#8\n",
        "    model.add(Conv1D(filters=5,kernel_size=3,strides=1))#9\n",
        "    model.add(LeakyReLU())\n",
        "    model.add(GlobalAveragePooling1D())#10\n",
        "    model.add(Dense(1,activation='sigmoid'))#11\n",
        "\n",
        "    model.compile('adam',loss='binary_crossentropy',metrics=['accuracy'])\n",
        "    return model\n",
        "\n",
        "model=cnnmodel()\n",
        "model.summary()"
      ],
      "metadata": {
        "colab": {
          "base_uri": "https://localhost:8080/"
        },
        "id": "kJ6yav2hp526",
        "outputId": "7affd642-cc7e-4f88-ea28-3b2e8fee098e"
      },
      "execution_count": 26,
      "outputs": [
        {
          "output_type": "stream",
          "name": "stdout",
          "text": [
            "Model: \"sequential\"\n",
            "_________________________________________________________________\n",
            " Layer (type)                Output Shape              Param #   \n",
            "=================================================================\n",
            " conv1d (Conv1D)             (None, 6248, 5)           290       \n",
            "                                                                 \n",
            " batch_normalization (Batch  (None, 6248, 5)           20        \n",
            " Normalization)                                                  \n",
            "                                                                 \n",
            " leaky_re_lu (LeakyReLU)     (None, 6248, 5)           0         \n",
            "                                                                 \n",
            " max_pooling1d (MaxPooling1  (None, 3124, 5)           0         \n",
            " D)                                                              \n",
            "                                                                 \n",
            " conv1d_1 (Conv1D)           (None, 3122, 5)           80        \n",
            "                                                                 \n",
            " leaky_re_lu_1 (LeakyReLU)   (None, 3122, 5)           0         \n",
            "                                                                 \n",
            " max_pooling1d_1 (MaxPoolin  (None, 1561, 5)           0         \n",
            " g1D)                                                            \n",
            "                                                                 \n",
            " dropout (Dropout)           (None, 1561, 5)           0         \n",
            "                                                                 \n",
            " conv1d_2 (Conv1D)           (None, 1559, 5)           80        \n",
            "                                                                 \n",
            " leaky_re_lu_2 (LeakyReLU)   (None, 1559, 5)           0         \n",
            "                                                                 \n",
            " average_pooling1d (Average  (None, 779, 5)            0         \n",
            " Pooling1D)                                                      \n",
            "                                                                 \n",
            " dropout_1 (Dropout)         (None, 779, 5)            0         \n",
            "                                                                 \n",
            " conv1d_3 (Conv1D)           (None, 777, 5)            80        \n",
            "                                                                 \n",
            " leaky_re_lu_3 (LeakyReLU)   (None, 777, 5)            0         \n",
            "                                                                 \n",
            " average_pooling1d_1 (Avera  (None, 388, 5)            0         \n",
            " gePooling1D)                                                    \n",
            "                                                                 \n",
            " conv1d_4 (Conv1D)           (None, 386, 5)            80        \n",
            "                                                                 \n",
            " leaky_re_lu_4 (LeakyReLU)   (None, 386, 5)            0         \n",
            "                                                                 \n",
            " global_average_pooling1d (  (None, 5)                 0         \n",
            " GlobalAveragePooling1D)                                         \n",
            "                                                                 \n",
            " dense (Dense)               (None, 1)                 6         \n",
            "                                                                 \n",
            "=================================================================\n",
            "Total params: 636 (2.48 KB)\n",
            "Trainable params: 626 (2.45 KB)\n",
            "Non-trainable params: 10 (40.00 Byte)\n",
            "_________________________________________________________________\n"
          ]
        }
      ]
    },
    {
      "cell_type": "code",
      "source": [
        "\n",
        "from sklearn.model_selection import GroupKFold,LeaveOneGroupOut\n",
        "from sklearn.preprocessing import StandardScaler\n",
        "gkf=GroupKFold()"
      ],
      "metadata": {
        "id": "wW9xhFThp9FL"
      },
      "execution_count": 27,
      "outputs": []
    },
    {
      "cell_type": "code",
      "source": [
        "accuracy=[]\n",
        "for train_index, val_index in gkf.split(data_array, label_array, groups=group_array):\n",
        "    train_features,train_labels=data_array[train_index],label_array[train_index]\n",
        "    val_features,val_labels=data_array[val_index],label_array[val_index]\n",
        "    scaler=StandardScaler()\n",
        "    train_features = scaler.fit_transform(train_features.reshape(-1, train_features.shape[-1])).reshape(train_features.shape)\n",
        "    val_features = scaler.transform(val_features.reshape(-1, val_features.shape[-1])).reshape(val_features.shape)\n",
        "    model=cnnmodel()\n",
        "    model.fit(train_features,train_labels,epochs=50,batch_size=128,validation_data=(val_features,val_labels))\n",
        "    accuracy.append(model.evaluate(val_features,val_labels)[1])"
      ],
      "metadata": {
        "colab": {
          "base_uri": "https://localhost:8080/"
        },
        "id": "y2hJpSY2qC19",
        "outputId": "161660e4-fb58-45cd-afde-5cd04fa9d778"
      },
      "execution_count": 28,
      "outputs": [
        {
          "output_type": "stream",
          "name": "stdout",
          "text": [
            "Epoch 1/50\n",
            "8/8 [==============================] - 13s 192ms/step - loss: 0.7115 - accuracy: 0.4490 - val_loss: 0.7028 - val_accuracy: 0.4632\n",
            "Epoch 2/50\n",
            "8/8 [==============================] - 1s 69ms/step - loss: 0.7034 - accuracy: 0.4490 - val_loss: 0.6980 - val_accuracy: 0.3203\n",
            "Epoch 3/50\n",
            "8/8 [==============================] - 1s 67ms/step - loss: 0.6987 - accuracy: 0.4281 - val_loss: 0.6952 - val_accuracy: 0.5152\n",
            "Epoch 4/50\n",
            "8/8 [==============================] - 1s 67ms/step - loss: 0.6952 - accuracy: 0.4742 - val_loss: 0.6939 - val_accuracy: 0.5368\n",
            "Epoch 5/50\n",
            "8/8 [==============================] - 0s 65ms/step - loss: 0.6929 - accuracy: 0.5434 - val_loss: 0.6928 - val_accuracy: 0.5368\n",
            "Epoch 6/50\n",
            "8/8 [==============================] - 1s 67ms/step - loss: 0.6917 - accuracy: 0.5401 - val_loss: 0.6911 - val_accuracy: 0.5368\n",
            "Epoch 7/50\n",
            "8/8 [==============================] - 0s 59ms/step - loss: 0.6901 - accuracy: 0.5477 - val_loss: 0.6896 - val_accuracy: 0.5368\n",
            "Epoch 8/50\n",
            "8/8 [==============================] - 1s 87ms/step - loss: 0.6888 - accuracy: 0.5510 - val_loss: 0.6882 - val_accuracy: 0.5368\n",
            "Epoch 9/50\n",
            "8/8 [==============================] - 1s 122ms/step - loss: 0.6877 - accuracy: 0.5510 - val_loss: 0.6864 - val_accuracy: 0.5368\n",
            "Epoch 10/50\n",
            "8/8 [==============================] - 1s 90ms/step - loss: 0.6867 - accuracy: 0.5510 - val_loss: 0.6848 - val_accuracy: 0.5368\n",
            "Epoch 11/50\n",
            "8/8 [==============================] - 1s 69ms/step - loss: 0.6857 - accuracy: 0.5510 - val_loss: 0.6836 - val_accuracy: 0.5368\n",
            "Epoch 12/50\n",
            "8/8 [==============================] - 0s 59ms/step - loss: 0.6844 - accuracy: 0.5510 - val_loss: 0.6821 - val_accuracy: 0.5368\n",
            "Epoch 13/50\n",
            "8/8 [==============================] - 1s 66ms/step - loss: 0.6833 - accuracy: 0.5510 - val_loss: 0.6803 - val_accuracy: 0.5368\n",
            "Epoch 14/50\n",
            "8/8 [==============================] - 0s 61ms/step - loss: 0.6810 - accuracy: 0.5510 - val_loss: 0.6786 - val_accuracy: 0.5368\n",
            "Epoch 15/50\n",
            "8/8 [==============================] - 1s 70ms/step - loss: 0.6785 - accuracy: 0.5510 - val_loss: 0.6756 - val_accuracy: 0.5368\n",
            "Epoch 16/50\n",
            "8/8 [==============================] - 1s 119ms/step - loss: 0.6750 - accuracy: 0.5510 - val_loss: 0.6720 - val_accuracy: 0.5368\n",
            "Epoch 17/50\n",
            "8/8 [==============================] - 1s 108ms/step - loss: 0.6698 - accuracy: 0.5510 - val_loss: 0.6666 - val_accuracy: 0.5368\n",
            "Epoch 18/50\n",
            "8/8 [==============================] - 1s 105ms/step - loss: 0.6594 - accuracy: 0.5510 - val_loss: 0.6573 - val_accuracy: 0.5368\n",
            "Epoch 19/50\n",
            "8/8 [==============================] - 1s 110ms/step - loss: 0.6512 - accuracy: 0.5510 - val_loss: 0.6483 - val_accuracy: 0.5368\n",
            "Epoch 20/50\n",
            "8/8 [==============================] - 1s 85ms/step - loss: 0.6304 - accuracy: 0.5697 - val_loss: 0.6395 - val_accuracy: 0.5411\n",
            "Epoch 21/50\n",
            "8/8 [==============================] - 1s 84ms/step - loss: 0.6071 - accuracy: 0.6301 - val_loss: 0.6219 - val_accuracy: 0.6061\n",
            "Epoch 22/50\n",
            "8/8 [==============================] - 1s 89ms/step - loss: 0.5730 - accuracy: 0.7091 - val_loss: 0.6106 - val_accuracy: 0.6667\n",
            "Epoch 23/50\n",
            "8/8 [==============================] - 1s 89ms/step - loss: 0.5317 - accuracy: 0.7914 - val_loss: 0.6204 - val_accuracy: 0.7056\n",
            "Epoch 24/50\n",
            "8/8 [==============================] - 1s 89ms/step - loss: 0.4972 - accuracy: 0.8463 - val_loss: 0.5872 - val_accuracy: 0.6926\n",
            "Epoch 25/50\n",
            "8/8 [==============================] - 1s 115ms/step - loss: 0.4598 - accuracy: 0.8573 - val_loss: 0.5698 - val_accuracy: 0.6883\n",
            "Epoch 26/50\n",
            "8/8 [==============================] - 1s 121ms/step - loss: 0.4296 - accuracy: 0.8288 - val_loss: 0.5599 - val_accuracy: 0.6970\n",
            "Epoch 27/50\n",
            "8/8 [==============================] - 1s 141ms/step - loss: 0.4078 - accuracy: 0.8386 - val_loss: 0.6399 - val_accuracy: 0.6017\n",
            "Epoch 28/50\n",
            "8/8 [==============================] - 1s 100ms/step - loss: 0.3647 - accuracy: 0.8891 - val_loss: 0.5549 - val_accuracy: 0.6883\n",
            "Epoch 29/50\n",
            "8/8 [==============================] - 1s 88ms/step - loss: 0.3426 - accuracy: 0.8979 - val_loss: 0.5649 - val_accuracy: 0.6580\n",
            "Epoch 30/50\n",
            "8/8 [==============================] - 1s 115ms/step - loss: 0.3404 - accuracy: 0.8968 - val_loss: 0.6311 - val_accuracy: 0.5887\n",
            "Epoch 31/50\n",
            "8/8 [==============================] - 1s 82ms/step - loss: 0.3074 - accuracy: 0.8968 - val_loss: 0.5511 - val_accuracy: 0.6840\n",
            "Epoch 32/50\n",
            "8/8 [==============================] - 1s 88ms/step - loss: 0.3190 - accuracy: 0.8913 - val_loss: 0.5723 - val_accuracy: 0.6234\n",
            "Epoch 33/50\n",
            "8/8 [==============================] - 1s 94ms/step - loss: 0.2994 - accuracy: 0.9034 - val_loss: 0.7468 - val_accuracy: 0.5758\n",
            "Epoch 34/50\n",
            "8/8 [==============================] - 1s 101ms/step - loss: 0.2750 - accuracy: 0.9122 - val_loss: 0.6420 - val_accuracy: 0.6190\n",
            "Epoch 35/50\n",
            "8/8 [==============================] - 1s 93ms/step - loss: 0.2938 - accuracy: 0.8968 - val_loss: 0.7976 - val_accuracy: 0.6320\n",
            "Epoch 36/50\n",
            "8/8 [==============================] - 1s 86ms/step - loss: 0.2705 - accuracy: 0.9111 - val_loss: 0.6893 - val_accuracy: 0.6623\n",
            "Epoch 37/50\n",
            "8/8 [==============================] - 1s 81ms/step - loss: 0.2683 - accuracy: 0.9199 - val_loss: 0.7273 - val_accuracy: 0.6190\n",
            "Epoch 38/50\n",
            "8/8 [==============================] - 1s 88ms/step - loss: 0.2462 - accuracy: 0.9210 - val_loss: 0.6703 - val_accuracy: 0.6190\n",
            "Epoch 39/50\n",
            "8/8 [==============================] - 1s 82ms/step - loss: 0.2511 - accuracy: 0.9056 - val_loss: 0.6827 - val_accuracy: 0.6147\n",
            "Epoch 40/50\n",
            "8/8 [==============================] - 1s 88ms/step - loss: 0.2493 - accuracy: 0.9254 - val_loss: 0.5960 - val_accuracy: 0.6320\n",
            "Epoch 41/50\n",
            "8/8 [==============================] - 1s 112ms/step - loss: 0.2203 - accuracy: 0.9407 - val_loss: 0.5812 - val_accuracy: 0.6623\n",
            "Epoch 42/50\n",
            "8/8 [==============================] - 1s 96ms/step - loss: 0.2264 - accuracy: 0.9341 - val_loss: 0.6421 - val_accuracy: 0.6580\n",
            "Epoch 43/50\n",
            "8/8 [==============================] - 1s 93ms/step - loss: 0.2215 - accuracy: 0.9385 - val_loss: 0.5975 - val_accuracy: 0.6753\n",
            "Epoch 44/50\n",
            "8/8 [==============================] - 1s 96ms/step - loss: 0.2093 - accuracy: 0.9363 - val_loss: 0.6274 - val_accuracy: 0.6277\n",
            "Epoch 45/50\n",
            "8/8 [==============================] - 1s 92ms/step - loss: 0.2082 - accuracy: 0.9319 - val_loss: 0.5050 - val_accuracy: 0.7316\n",
            "Epoch 46/50\n",
            "8/8 [==============================] - 1s 72ms/step - loss: 0.2124 - accuracy: 0.9341 - val_loss: 0.6287 - val_accuracy: 0.6320\n",
            "Epoch 47/50\n",
            "8/8 [==============================] - 0s 64ms/step - loss: 0.1893 - accuracy: 0.9385 - val_loss: 0.5245 - val_accuracy: 0.7143\n",
            "Epoch 48/50\n",
            "8/8 [==============================] - 0s 61ms/step - loss: 0.1982 - accuracy: 0.9374 - val_loss: 0.5115 - val_accuracy: 0.7143\n",
            "Epoch 49/50\n",
            "8/8 [==============================] - 0s 62ms/step - loss: 0.1902 - accuracy: 0.9440 - val_loss: 0.5620 - val_accuracy: 0.6926\n",
            "Epoch 50/50\n",
            "8/8 [==============================] - 0s 50ms/step - loss: 0.1823 - accuracy: 0.9451 - val_loss: 0.5603 - val_accuracy: 0.7056\n",
            "8/8 [==============================] - 0s 27ms/step - loss: 0.5603 - accuracy: 0.7056\n",
            "Epoch 1/50\n",
            "8/8 [==============================] - 4s 279ms/step - loss: 0.7075 - accuracy: 0.4348 - val_loss: 0.7072 - val_accuracy: 0.5291\n",
            "Epoch 2/50\n",
            "8/8 [==============================] - 1s 79ms/step - loss: 0.6965 - accuracy: 0.4530 - val_loss: 0.7007 - val_accuracy: 0.3155\n",
            "Epoch 3/50\n",
            "8/8 [==============================] - 0s 57ms/step - loss: 0.6912 - accuracy: 0.5641 - val_loss: 0.6972 - val_accuracy: 0.4660\n",
            "Epoch 4/50\n",
            "8/8 [==============================] - 0s 65ms/step - loss: 0.6886 - accuracy: 0.5630 - val_loss: 0.6950 - val_accuracy: 0.4709\n",
            "Epoch 5/50\n",
            "8/8 [==============================] - 0s 55ms/step - loss: 0.6865 - accuracy: 0.5652 - val_loss: 0.6932 - val_accuracy: 0.4709\n",
            "Epoch 6/50\n",
            "8/8 [==============================] - 0s 56ms/step - loss: 0.6842 - accuracy: 0.5652 - val_loss: 0.6917 - val_accuracy: 0.4709\n",
            "Epoch 7/50\n",
            "8/8 [==============================] - 0s 57ms/step - loss: 0.6821 - accuracy: 0.5652 - val_loss: 0.6909 - val_accuracy: 0.4709\n",
            "Epoch 8/50\n",
            "8/8 [==============================] - 0s 56ms/step - loss: 0.6796 - accuracy: 0.5652 - val_loss: 0.6900 - val_accuracy: 0.4709\n",
            "Epoch 9/50\n",
            "8/8 [==============================] - 0s 60ms/step - loss: 0.6765 - accuracy: 0.5652 - val_loss: 0.6893 - val_accuracy: 0.4709\n",
            "Epoch 10/50\n",
            "8/8 [==============================] - 0s 55ms/step - loss: 0.6707 - accuracy: 0.5652 - val_loss: 0.6878 - val_accuracy: 0.4709\n",
            "Epoch 11/50\n",
            "8/8 [==============================] - 0s 56ms/step - loss: 0.6654 - accuracy: 0.5652 - val_loss: 0.6848 - val_accuracy: 0.4709\n",
            "Epoch 12/50\n",
            "8/8 [==============================] - 0s 64ms/step - loss: 0.6569 - accuracy: 0.5641 - val_loss: 0.6792 - val_accuracy: 0.4757\n",
            "Epoch 13/50\n",
            "8/8 [==============================] - 0s 56ms/step - loss: 0.6479 - accuracy: 0.5705 - val_loss: 0.6728 - val_accuracy: 0.4951\n",
            "Epoch 14/50\n",
            "8/8 [==============================] - 0s 56ms/step - loss: 0.6330 - accuracy: 0.6111 - val_loss: 0.6653 - val_accuracy: 0.5146\n",
            "Epoch 15/50\n",
            "8/8 [==============================] - 0s 63ms/step - loss: 0.6113 - accuracy: 0.7019 - val_loss: 0.6515 - val_accuracy: 0.5922\n",
            "Epoch 16/50\n",
            "8/8 [==============================] - 0s 64ms/step - loss: 0.5858 - accuracy: 0.7489 - val_loss: 0.6333 - val_accuracy: 0.6845\n",
            "Epoch 17/50\n",
            "8/8 [==============================] - 1s 67ms/step - loss: 0.5671 - accuracy: 0.7361 - val_loss: 0.6232 - val_accuracy: 0.7039\n",
            "Epoch 18/50\n",
            "8/8 [==============================] - 0s 59ms/step - loss: 0.5379 - accuracy: 0.7650 - val_loss: 0.6089 - val_accuracy: 0.7330\n",
            "Epoch 19/50\n",
            "8/8 [==============================] - 0s 62ms/step - loss: 0.5143 - accuracy: 0.7906 - val_loss: 0.5785 - val_accuracy: 0.8155\n",
            "Epoch 20/50\n",
            "8/8 [==============================] - 0s 58ms/step - loss: 0.4904 - accuracy: 0.7927 - val_loss: 0.5690 - val_accuracy: 0.8010\n",
            "Epoch 21/50\n",
            "8/8 [==============================] - 0s 55ms/step - loss: 0.4693 - accuracy: 0.7991 - val_loss: 0.5582 - val_accuracy: 0.8107\n",
            "Epoch 22/50\n",
            "8/8 [==============================] - 0s 56ms/step - loss: 0.4531 - accuracy: 0.7885 - val_loss: 0.5322 - val_accuracy: 0.8204\n",
            "Epoch 23/50\n",
            "8/8 [==============================] - 1s 65ms/step - loss: 0.4289 - accuracy: 0.8130 - val_loss: 0.5395 - val_accuracy: 0.8350\n",
            "Epoch 24/50\n",
            "8/8 [==============================] - 0s 60ms/step - loss: 0.4176 - accuracy: 0.8141 - val_loss: 0.5060 - val_accuracy: 0.8592\n",
            "Epoch 25/50\n",
            "8/8 [==============================] - 1s 83ms/step - loss: 0.4216 - accuracy: 0.8248 - val_loss: 0.5033 - val_accuracy: 0.8544\n",
            "Epoch 26/50\n",
            "8/8 [==============================] - 1s 83ms/step - loss: 0.4078 - accuracy: 0.8312 - val_loss: 0.4854 - val_accuracy: 0.9029\n",
            "Epoch 27/50\n",
            "8/8 [==============================] - 1s 81ms/step - loss: 0.4030 - accuracy: 0.8333 - val_loss: 0.4764 - val_accuracy: 0.8932\n",
            "Epoch 28/50\n",
            "8/8 [==============================] - 1s 80ms/step - loss: 0.4005 - accuracy: 0.8312 - val_loss: 0.4825 - val_accuracy: 0.8592\n",
            "Epoch 29/50\n",
            "8/8 [==============================] - 0s 57ms/step - loss: 0.3936 - accuracy: 0.8323 - val_loss: 0.4700 - val_accuracy: 0.9369\n",
            "Epoch 30/50\n",
            "8/8 [==============================] - 0s 64ms/step - loss: 0.4034 - accuracy: 0.8291 - val_loss: 0.4633 - val_accuracy: 0.9175\n",
            "Epoch 31/50\n",
            "8/8 [==============================] - 0s 65ms/step - loss: 0.3654 - accuracy: 0.8536 - val_loss: 0.4648 - val_accuracy: 0.9175\n",
            "Epoch 32/50\n",
            "8/8 [==============================] - 0s 57ms/step - loss: 0.3584 - accuracy: 0.8590 - val_loss: 0.4537 - val_accuracy: 0.9126\n",
            "Epoch 33/50\n",
            "8/8 [==============================] - 0s 54ms/step - loss: 0.3747 - accuracy: 0.8568 - val_loss: 0.4582 - val_accuracy: 0.8544\n",
            "Epoch 34/50\n",
            "8/8 [==============================] - 0s 64ms/step - loss: 0.3672 - accuracy: 0.8643 - val_loss: 0.4577 - val_accuracy: 0.9078\n",
            "Epoch 35/50\n",
            "8/8 [==============================] - 0s 56ms/step - loss: 0.3611 - accuracy: 0.8675 - val_loss: 0.4528 - val_accuracy: 0.9223\n",
            "Epoch 36/50\n",
            "8/8 [==============================] - 0s 58ms/step - loss: 0.3554 - accuracy: 0.8600 - val_loss: 0.4414 - val_accuracy: 0.8835\n",
            "Epoch 37/50\n",
            "8/8 [==============================] - 0s 57ms/step - loss: 0.3779 - accuracy: 0.8462 - val_loss: 0.4509 - val_accuracy: 0.8786\n",
            "Epoch 38/50\n",
            "8/8 [==============================] - 0s 58ms/step - loss: 0.3506 - accuracy: 0.8686 - val_loss: 0.4514 - val_accuracy: 0.8350\n",
            "Epoch 39/50\n",
            "8/8 [==============================] - 0s 58ms/step - loss: 0.3567 - accuracy: 0.8547 - val_loss: 0.4364 - val_accuracy: 0.8981\n",
            "Epoch 40/50\n",
            "8/8 [==============================] - 0s 59ms/step - loss: 0.3451 - accuracy: 0.8590 - val_loss: 0.4291 - val_accuracy: 0.9320\n",
            "Epoch 41/50\n",
            "8/8 [==============================] - 0s 61ms/step - loss: 0.3451 - accuracy: 0.8793 - val_loss: 0.4249 - val_accuracy: 0.9320\n",
            "Epoch 42/50\n",
            "8/8 [==============================] - 0s 64ms/step - loss: 0.3464 - accuracy: 0.8643 - val_loss: 0.4178 - val_accuracy: 0.9369\n",
            "Epoch 43/50\n",
            "8/8 [==============================] - 0s 61ms/step - loss: 0.3409 - accuracy: 0.8622 - val_loss: 0.4172 - val_accuracy: 0.9369\n",
            "Epoch 44/50\n",
            "8/8 [==============================] - 0s 56ms/step - loss: 0.3247 - accuracy: 0.8729 - val_loss: 0.4065 - val_accuracy: 0.9078\n",
            "Epoch 45/50\n",
            "8/8 [==============================] - 0s 64ms/step - loss: 0.3321 - accuracy: 0.8697 - val_loss: 0.3978 - val_accuracy: 0.9417\n",
            "Epoch 46/50\n",
            "8/8 [==============================] - 0s 64ms/step - loss: 0.3326 - accuracy: 0.8729 - val_loss: 0.3916 - val_accuracy: 0.9417\n",
            "Epoch 47/50\n",
            "8/8 [==============================] - 0s 59ms/step - loss: 0.3251 - accuracy: 0.8771 - val_loss: 0.3915 - val_accuracy: 0.9466\n",
            "Epoch 48/50\n",
            "8/8 [==============================] - 0s 57ms/step - loss: 0.3256 - accuracy: 0.8707 - val_loss: 0.3959 - val_accuracy: 0.9320\n",
            "Epoch 49/50\n",
            "8/8 [==============================] - 0s 57ms/step - loss: 0.3213 - accuracy: 0.8739 - val_loss: 0.4001 - val_accuracy: 0.9320\n",
            "Epoch 50/50\n",
            "8/8 [==============================] - 0s 65ms/step - loss: 0.3085 - accuracy: 0.8825 - val_loss: 0.3860 - val_accuracy: 0.9369\n",
            "7/7 [==============================] - 0s 44ms/step - loss: 0.3860 - accuracy: 0.9369\n",
            "Epoch 1/50\n",
            "8/8 [==============================] - 4s 292ms/step - loss: 0.6736 - accuracy: 0.5606 - val_loss: 0.7350 - val_accuracy: 0.5000\n",
            "Epoch 2/50\n",
            "8/8 [==============================] - 1s 67ms/step - loss: 0.6697 - accuracy: 0.5606 - val_loss: 0.7346 - val_accuracy: 0.5000\n",
            "Epoch 3/50\n",
            "8/8 [==============================] - 1s 70ms/step - loss: 0.6670 - accuracy: 0.5606 - val_loss: 0.7395 - val_accuracy: 0.5000\n",
            "Epoch 4/50\n",
            "8/8 [==============================] - 0s 65ms/step - loss: 0.6647 - accuracy: 0.5606 - val_loss: 0.7414 - val_accuracy: 0.5000\n",
            "Epoch 5/50\n",
            "8/8 [==============================] - 0s 61ms/step - loss: 0.6606 - accuracy: 0.5606 - val_loss: 0.7329 - val_accuracy: 0.5000\n",
            "Epoch 6/50\n",
            "8/8 [==============================] - 1s 68ms/step - loss: 0.6589 - accuracy: 0.5606 - val_loss: 0.7330 - val_accuracy: 0.5000\n",
            "Epoch 7/50\n",
            "8/8 [==============================] - 0s 64ms/step - loss: 0.6534 - accuracy: 0.5606 - val_loss: 0.7337 - val_accuracy: 0.5000\n",
            "Epoch 8/50\n",
            "8/8 [==============================] - 0s 63ms/step - loss: 0.6489 - accuracy: 0.5705 - val_loss: 0.7441 - val_accuracy: 0.5000\n",
            "Epoch 9/50\n",
            "8/8 [==============================] - 0s 61ms/step - loss: 0.6421 - accuracy: 0.5749 - val_loss: 0.7309 - val_accuracy: 0.5000\n",
            "Epoch 10/50\n",
            "8/8 [==============================] - 0s 61ms/step - loss: 0.6351 - accuracy: 0.5870 - val_loss: 0.7260 - val_accuracy: 0.5000\n",
            "Epoch 11/50\n",
            "8/8 [==============================] - 0s 64ms/step - loss: 0.6339 - accuracy: 0.5947 - val_loss: 0.7274 - val_accuracy: 0.5000\n",
            "Epoch 12/50\n",
            "8/8 [==============================] - 1s 66ms/step - loss: 0.6213 - accuracy: 0.6134 - val_loss: 0.7292 - val_accuracy: 0.5000\n",
            "Epoch 13/50\n",
            "8/8 [==============================] - 1s 69ms/step - loss: 0.6124 - accuracy: 0.6211 - val_loss: 0.7373 - val_accuracy: 0.5000\n",
            "Epoch 14/50\n",
            "8/8 [==============================] - 0s 60ms/step - loss: 0.6102 - accuracy: 0.6233 - val_loss: 0.7348 - val_accuracy: 0.5000\n",
            "Epoch 15/50\n",
            "8/8 [==============================] - 0s 62ms/step - loss: 0.5948 - accuracy: 0.6531 - val_loss: 0.7343 - val_accuracy: 0.5043\n",
            "Epoch 16/50\n",
            "8/8 [==============================] - 0s 60ms/step - loss: 0.5878 - accuracy: 0.6784 - val_loss: 0.7347 - val_accuracy: 0.5000\n",
            "Epoch 17/50\n",
            "8/8 [==============================] - 0s 61ms/step - loss: 0.5740 - accuracy: 0.6949 - val_loss: 0.7200 - val_accuracy: 0.4786\n",
            "Epoch 18/50\n",
            "8/8 [==============================] - 0s 64ms/step - loss: 0.5716 - accuracy: 0.7247 - val_loss: 0.7290 - val_accuracy: 0.4786\n",
            "Epoch 19/50\n",
            "8/8 [==============================] - 0s 61ms/step - loss: 0.5526 - accuracy: 0.7148 - val_loss: 0.7451 - val_accuracy: 0.4786\n",
            "Epoch 20/50\n",
            "8/8 [==============================] - 0s 59ms/step - loss: 0.5474 - accuracy: 0.7291 - val_loss: 0.7354 - val_accuracy: 0.4615\n",
            "Epoch 21/50\n",
            "8/8 [==============================] - 0s 64ms/step - loss: 0.5473 - accuracy: 0.7258 - val_loss: 0.7401 - val_accuracy: 0.4402\n",
            "Epoch 22/50\n",
            "8/8 [==============================] - 1s 72ms/step - loss: 0.5256 - accuracy: 0.7467 - val_loss: 0.7254 - val_accuracy: 0.4231\n",
            "Epoch 23/50\n",
            "8/8 [==============================] - 1s 115ms/step - loss: 0.5188 - accuracy: 0.7456 - val_loss: 0.7231 - val_accuracy: 0.4444\n",
            "Epoch 24/50\n",
            "8/8 [==============================] - 1s 91ms/step - loss: 0.5102 - accuracy: 0.7577 - val_loss: 0.7338 - val_accuracy: 0.4316\n",
            "Epoch 25/50\n",
            "8/8 [==============================] - 1s 85ms/step - loss: 0.5245 - accuracy: 0.7280 - val_loss: 0.7418 - val_accuracy: 0.4359\n",
            "Epoch 26/50\n",
            "8/8 [==============================] - 1s 72ms/step - loss: 0.4919 - accuracy: 0.7775 - val_loss: 0.7304 - val_accuracy: 0.5342\n",
            "Epoch 27/50\n",
            "8/8 [==============================] - 1s 72ms/step - loss: 0.4810 - accuracy: 0.7687 - val_loss: 0.7553 - val_accuracy: 0.4316\n",
            "Epoch 28/50\n",
            "8/8 [==============================] - 0s 65ms/step - loss: 0.4656 - accuracy: 0.7643 - val_loss: 0.7971 - val_accuracy: 0.4444\n",
            "Epoch 29/50\n",
            "8/8 [==============================] - 0s 64ms/step - loss: 0.4554 - accuracy: 0.7852 - val_loss: 0.7903 - val_accuracy: 0.4274\n",
            "Epoch 30/50\n",
            "8/8 [==============================] - 0s 62ms/step - loss: 0.4543 - accuracy: 0.7819 - val_loss: 0.7906 - val_accuracy: 0.4359\n",
            "Epoch 31/50\n",
            "8/8 [==============================] - 1s 68ms/step - loss: 0.4276 - accuracy: 0.8117 - val_loss: 0.8120 - val_accuracy: 0.4274\n",
            "Epoch 32/50\n",
            "8/8 [==============================] - 0s 63ms/step - loss: 0.4506 - accuracy: 0.7919 - val_loss: 0.8012 - val_accuracy: 0.4744\n",
            "Epoch 33/50\n",
            "8/8 [==============================] - 1s 70ms/step - loss: 0.4344 - accuracy: 0.7996 - val_loss: 0.7694 - val_accuracy: 0.5427\n",
            "Epoch 34/50\n",
            "8/8 [==============================] - 0s 63ms/step - loss: 0.4529 - accuracy: 0.7764 - val_loss: 0.7976 - val_accuracy: 0.5256\n",
            "Epoch 35/50\n",
            "8/8 [==============================] - 0s 58ms/step - loss: 0.4139 - accuracy: 0.7941 - val_loss: 0.8211 - val_accuracy: 0.4829\n",
            "Epoch 36/50\n",
            "8/8 [==============================] - 1s 65ms/step - loss: 0.4073 - accuracy: 0.8106 - val_loss: 0.8730 - val_accuracy: 0.4615\n",
            "Epoch 37/50\n",
            "8/8 [==============================] - 0s 62ms/step - loss: 0.4207 - accuracy: 0.8084 - val_loss: 0.8162 - val_accuracy: 0.5385\n",
            "Epoch 38/50\n",
            "8/8 [==============================] - 1s 67ms/step - loss: 0.4151 - accuracy: 0.7985 - val_loss: 0.8259 - val_accuracy: 0.5470\n",
            "Epoch 39/50\n",
            "8/8 [==============================] - 1s 67ms/step - loss: 0.3897 - accuracy: 0.8271 - val_loss: 0.8925 - val_accuracy: 0.4744\n",
            "Epoch 40/50\n",
            "8/8 [==============================] - 0s 64ms/step - loss: 0.3922 - accuracy: 0.8304 - val_loss: 0.9107 - val_accuracy: 0.4829\n",
            "Epoch 41/50\n",
            "8/8 [==============================] - 0s 63ms/step - loss: 0.4012 - accuracy: 0.8216 - val_loss: 0.9148 - val_accuracy: 0.4872\n",
            "Epoch 42/50\n",
            "8/8 [==============================] - 0s 65ms/step - loss: 0.3805 - accuracy: 0.8183 - val_loss: 0.8642 - val_accuracy: 0.5684\n",
            "Epoch 43/50\n",
            "8/8 [==============================] - 0s 59ms/step - loss: 0.3805 - accuracy: 0.8238 - val_loss: 0.9097 - val_accuracy: 0.5385\n",
            "Epoch 44/50\n",
            "8/8 [==============================] - 0s 62ms/step - loss: 0.3527 - accuracy: 0.8414 - val_loss: 0.9439 - val_accuracy: 0.5256\n",
            "Epoch 45/50\n",
            "8/8 [==============================] - 1s 91ms/step - loss: 0.3599 - accuracy: 0.8403 - val_loss: 0.8725 - val_accuracy: 0.6111\n",
            "Epoch 46/50\n",
            "8/8 [==============================] - 1s 97ms/step - loss: 0.3615 - accuracy: 0.8238 - val_loss: 0.9307 - val_accuracy: 0.5598\n",
            "Epoch 47/50\n",
            "8/8 [==============================] - 1s 93ms/step - loss: 0.3570 - accuracy: 0.8425 - val_loss: 1.0060 - val_accuracy: 0.5128\n",
            "Epoch 48/50\n",
            "8/8 [==============================] - 1s 92ms/step - loss: 0.3266 - accuracy: 0.8590 - val_loss: 0.9592 - val_accuracy: 0.5385\n",
            "Epoch 49/50\n",
            "8/8 [==============================] - 1s 70ms/step - loss: 0.3607 - accuracy: 0.8370 - val_loss: 0.9595 - val_accuracy: 0.5385\n",
            "Epoch 50/50\n",
            "8/8 [==============================] - 0s 55ms/step - loss: 0.3331 - accuracy: 0.8700 - val_loss: 1.0859 - val_accuracy: 0.5043\n",
            "8/8 [==============================] - 0s 31ms/step - loss: 1.0859 - accuracy: 0.5043\n",
            "Epoch 1/50\n",
            "8/8 [==============================] - 4s 188ms/step - loss: 0.6845 - accuracy: 0.5508 - val_loss: 0.6965 - val_accuracy: 0.5381\n",
            "Epoch 2/50\n",
            "8/8 [==============================] - 1s 76ms/step - loss: 0.6769 - accuracy: 0.5508 - val_loss: 0.6986 - val_accuracy: 0.5381\n",
            "Epoch 3/50\n",
            "8/8 [==============================] - 1s 102ms/step - loss: 0.6699 - accuracy: 0.5508 - val_loss: 0.7018 - val_accuracy: 0.5381\n",
            "Epoch 4/50\n",
            "8/8 [==============================] - 1s 91ms/step - loss: 0.6683 - accuracy: 0.5508 - val_loss: 0.7044 - val_accuracy: 0.5381\n",
            "Epoch 5/50\n",
            "8/8 [==============================] - 1s 89ms/step - loss: 0.6628 - accuracy: 0.5508 - val_loss: 0.7034 - val_accuracy: 0.5381\n",
            "Epoch 6/50\n",
            "8/8 [==============================] - 1s 74ms/step - loss: 0.6608 - accuracy: 0.5508 - val_loss: 0.7041 - val_accuracy: 0.5381\n",
            "Epoch 7/50\n",
            "8/8 [==============================] - 1s 66ms/step - loss: 0.6586 - accuracy: 0.5508 - val_loss: 0.7039 - val_accuracy: 0.5381\n",
            "Epoch 8/50\n",
            "8/8 [==============================] - 0s 65ms/step - loss: 0.6543 - accuracy: 0.5508 - val_loss: 0.7031 - val_accuracy: 0.5381\n",
            "Epoch 9/50\n",
            "8/8 [==============================] - 1s 73ms/step - loss: 0.6471 - accuracy: 0.5508 - val_loss: 0.7035 - val_accuracy: 0.5381\n",
            "Epoch 10/50\n",
            "8/8 [==============================] - 1s 70ms/step - loss: 0.6443 - accuracy: 0.5508 - val_loss: 0.7050 - val_accuracy: 0.5381\n",
            "Epoch 11/50\n",
            "8/8 [==============================] - 0s 64ms/step - loss: 0.6388 - accuracy: 0.5530 - val_loss: 0.7075 - val_accuracy: 0.5381\n",
            "Epoch 12/50\n",
            "8/8 [==============================] - 1s 70ms/step - loss: 0.6298 - accuracy: 0.5806 - val_loss: 0.7077 - val_accuracy: 0.5254\n",
            "Epoch 13/50\n",
            "8/8 [==============================] - 1s 69ms/step - loss: 0.6268 - accuracy: 0.5916 - val_loss: 0.7104 - val_accuracy: 0.5127\n",
            "Epoch 14/50\n",
            "8/8 [==============================] - 1s 73ms/step - loss: 0.6240 - accuracy: 0.5762 - val_loss: 0.7144 - val_accuracy: 0.5169\n",
            "Epoch 15/50\n",
            "8/8 [==============================] - 0s 63ms/step - loss: 0.6095 - accuracy: 0.5927 - val_loss: 0.7158 - val_accuracy: 0.4958\n",
            "Epoch 16/50\n",
            "8/8 [==============================] - 0s 65ms/step - loss: 0.6106 - accuracy: 0.5784 - val_loss: 0.7142 - val_accuracy: 0.4873\n",
            "Epoch 17/50\n",
            "8/8 [==============================] - 0s 61ms/step - loss: 0.6000 - accuracy: 0.6391 - val_loss: 0.7178 - val_accuracy: 0.4873\n",
            "Epoch 18/50\n",
            "8/8 [==============================] - 1s 67ms/step - loss: 0.5843 - accuracy: 0.6810 - val_loss: 0.7215 - val_accuracy: 0.4703\n",
            "Epoch 19/50\n",
            "8/8 [==============================] - 0s 63ms/step - loss: 0.5723 - accuracy: 0.7285 - val_loss: 0.7236 - val_accuracy: 0.4322\n",
            "Epoch 20/50\n",
            "8/8 [==============================] - 1s 69ms/step - loss: 0.5646 - accuracy: 0.7296 - val_loss: 0.7304 - val_accuracy: 0.4407\n",
            "Epoch 21/50\n",
            "8/8 [==============================] - 0s 61ms/step - loss: 0.5349 - accuracy: 0.7583 - val_loss: 0.7393 - val_accuracy: 0.4110\n",
            "Epoch 22/50\n",
            "8/8 [==============================] - 0s 64ms/step - loss: 0.5300 - accuracy: 0.7307 - val_loss: 0.7468 - val_accuracy: 0.4280\n",
            "Epoch 23/50\n",
            "8/8 [==============================] - 0s 62ms/step - loss: 0.5029 - accuracy: 0.7682 - val_loss: 0.7542 - val_accuracy: 0.4364\n",
            "Epoch 24/50\n",
            "8/8 [==============================] - 0s 63ms/step - loss: 0.5040 - accuracy: 0.7572 - val_loss: 0.7657 - val_accuracy: 0.4619\n",
            "Epoch 25/50\n",
            "8/8 [==============================] - 1s 76ms/step - loss: 0.4746 - accuracy: 0.7671 - val_loss: 0.7605 - val_accuracy: 0.5127\n",
            "Epoch 26/50\n",
            "8/8 [==============================] - 1s 91ms/step - loss: 0.4573 - accuracy: 0.7792 - val_loss: 0.7306 - val_accuracy: 0.5212\n",
            "Epoch 27/50\n",
            "8/8 [==============================] - 1s 97ms/step - loss: 0.4490 - accuracy: 0.7826 - val_loss: 0.7281 - val_accuracy: 0.5424\n",
            "Epoch 28/50\n",
            "8/8 [==============================] - 1s 111ms/step - loss: 0.4195 - accuracy: 0.8102 - val_loss: 0.7757 - val_accuracy: 0.5381\n",
            "Epoch 29/50\n",
            "8/8 [==============================] - 1s 67ms/step - loss: 0.4040 - accuracy: 0.8146 - val_loss: 0.7611 - val_accuracy: 0.5636\n",
            "Epoch 30/50\n",
            "8/8 [==============================] - 1s 66ms/step - loss: 0.3949 - accuracy: 0.8146 - val_loss: 0.7446 - val_accuracy: 0.5720\n",
            "Epoch 31/50\n",
            "8/8 [==============================] - 0s 65ms/step - loss: 0.3883 - accuracy: 0.8091 - val_loss: 0.7140 - val_accuracy: 0.6059\n",
            "Epoch 32/50\n",
            "8/8 [==============================] - 1s 67ms/step - loss: 0.3449 - accuracy: 0.8543 - val_loss: 0.7338 - val_accuracy: 0.5805\n",
            "Epoch 33/50\n",
            "8/8 [==============================] - 1s 71ms/step - loss: 0.3430 - accuracy: 0.8609 - val_loss: 0.7492 - val_accuracy: 0.5805\n",
            "Epoch 34/50\n",
            "8/8 [==============================] - 0s 61ms/step - loss: 0.3320 - accuracy: 0.8675 - val_loss: 0.7945 - val_accuracy: 0.5805\n",
            "Epoch 35/50\n",
            "8/8 [==============================] - 1s 67ms/step - loss: 0.3132 - accuracy: 0.8819 - val_loss: 0.7346 - val_accuracy: 0.6059\n",
            "Epoch 36/50\n",
            "8/8 [==============================] - 0s 65ms/step - loss: 0.3106 - accuracy: 0.8720 - val_loss: 0.7929 - val_accuracy: 0.6186\n",
            "Epoch 37/50\n",
            "8/8 [==============================] - 1s 69ms/step - loss: 0.3293 - accuracy: 0.8565 - val_loss: 0.7011 - val_accuracy: 0.6271\n",
            "Epoch 38/50\n",
            "8/8 [==============================] - 0s 63ms/step - loss: 0.3505 - accuracy: 0.8609 - val_loss: 0.6506 - val_accuracy: 0.6737\n",
            "Epoch 39/50\n",
            "8/8 [==============================] - 1s 68ms/step - loss: 0.2993 - accuracy: 0.8565 - val_loss: 0.8098 - val_accuracy: 0.6356\n",
            "Epoch 40/50\n",
            "8/8 [==============================] - 0s 61ms/step - loss: 0.2689 - accuracy: 0.8996 - val_loss: 0.8812 - val_accuracy: 0.6483\n",
            "Epoch 41/50\n",
            "8/8 [==============================] - 0s 62ms/step - loss: 0.3022 - accuracy: 0.8709 - val_loss: 0.7914 - val_accuracy: 0.6356\n",
            "Epoch 42/50\n",
            "8/8 [==============================] - 0s 65ms/step - loss: 0.2678 - accuracy: 0.9007 - val_loss: 0.7141 - val_accuracy: 0.6525\n",
            "Epoch 43/50\n",
            "8/8 [==============================] - 0s 63ms/step - loss: 0.2650 - accuracy: 0.9018 - val_loss: 0.6574 - val_accuracy: 0.6780\n",
            "Epoch 44/50\n",
            "8/8 [==============================] - 0s 61ms/step - loss: 0.2618 - accuracy: 0.9040 - val_loss: 0.8368 - val_accuracy: 0.6568\n",
            "Epoch 45/50\n",
            "8/8 [==============================] - 1s 68ms/step - loss: 0.2896 - accuracy: 0.8808 - val_loss: 0.8503 - val_accuracy: 0.6398\n",
            "Epoch 46/50\n",
            "8/8 [==============================] - 0s 62ms/step - loss: 0.2336 - accuracy: 0.9216 - val_loss: 0.7753 - val_accuracy: 0.6398\n",
            "Epoch 47/50\n",
            "8/8 [==============================] - 1s 69ms/step - loss: 0.2567 - accuracy: 0.8996 - val_loss: 0.8363 - val_accuracy: 0.6441\n",
            "Epoch 48/50\n",
            "8/8 [==============================] - 1s 80ms/step - loss: 0.2425 - accuracy: 0.8996 - val_loss: 0.8928 - val_accuracy: 0.6780\n",
            "Epoch 49/50\n",
            "8/8 [==============================] - 1s 110ms/step - loss: 0.2239 - accuracy: 0.9294 - val_loss: 0.7855 - val_accuracy: 0.6864\n",
            "Epoch 50/50\n",
            "8/8 [==============================] - 1s 95ms/step - loss: 0.2508 - accuracy: 0.9106 - val_loss: 0.7346 - val_accuracy: 0.6992\n",
            "8/8 [==============================] - 0s 10ms/step - loss: 0.7346 - accuracy: 0.6992\n",
            "Epoch 1/50\n",
            "8/8 [==============================] - 4s 204ms/step - loss: 0.6948 - accuracy: 0.4785 - val_loss: 0.6938 - val_accuracy: 0.3021\n",
            "Epoch 2/50\n",
            "8/8 [==============================] - 0s 59ms/step - loss: 0.6909 - accuracy: 0.5116 - val_loss: 0.6948 - val_accuracy: 0.3149\n",
            "Epoch 3/50\n",
            "8/8 [==============================] - 1s 73ms/step - loss: 0.6893 - accuracy: 0.5138 - val_loss: 0.6911 - val_accuracy: 0.7915\n",
            "Epoch 4/50\n",
            "8/8 [==============================] - 1s 116ms/step - loss: 0.6866 - accuracy: 0.5127 - val_loss: 0.6866 - val_accuracy: 0.6851\n",
            "Epoch 5/50\n",
            "8/8 [==============================] - 1s 110ms/step - loss: 0.6819 - accuracy: 0.5127 - val_loss: 0.6800 - val_accuracy: 0.6851\n",
            "Epoch 6/50\n",
            "8/8 [==============================] - 1s 123ms/step - loss: 0.6757 - accuracy: 0.5127 - val_loss: 0.6788 - val_accuracy: 0.6851\n",
            "Epoch 7/50\n",
            "8/8 [==============================] - 1s 129ms/step - loss: 0.6710 - accuracy: 0.5127 - val_loss: 0.6825 - val_accuracy: 0.6851\n",
            "Epoch 8/50\n",
            "8/8 [==============================] - 1s 88ms/step - loss: 0.6654 - accuracy: 0.5127 - val_loss: 0.6874 - val_accuracy: 0.7447\n",
            "Epoch 9/50\n",
            "8/8 [==============================] - 1s 69ms/step - loss: 0.6591 - accuracy: 0.5171 - val_loss: 0.6899 - val_accuracy: 0.5149\n",
            "Epoch 10/50\n",
            "8/8 [==============================] - 1s 68ms/step - loss: 0.6509 - accuracy: 0.5259 - val_loss: 0.6884 - val_accuracy: 0.5191\n",
            "Epoch 11/50\n",
            "8/8 [==============================] - 1s 71ms/step - loss: 0.6403 - accuracy: 0.5325 - val_loss: 0.6830 - val_accuracy: 0.6766\n",
            "Epoch 12/50\n",
            "8/8 [==============================] - 1s 68ms/step - loss: 0.6404 - accuracy: 0.5788 - val_loss: 0.6893 - val_accuracy: 0.4553\n",
            "Epoch 13/50\n",
            "8/8 [==============================] - 1s 71ms/step - loss: 0.6294 - accuracy: 0.5711 - val_loss: 0.7010 - val_accuracy: 0.3617\n",
            "Epoch 14/50\n",
            "8/8 [==============================] - 0s 60ms/step - loss: 0.6220 - accuracy: 0.6384 - val_loss: 0.7175 - val_accuracy: 0.3447\n",
            "Epoch 15/50\n",
            "8/8 [==============================] - 0s 63ms/step - loss: 0.6157 - accuracy: 0.6781 - val_loss: 0.7248 - val_accuracy: 0.3447\n",
            "Epoch 16/50\n",
            "8/8 [==============================] - 0s 59ms/step - loss: 0.6096 - accuracy: 0.6560 - val_loss: 0.7114 - val_accuracy: 0.3532\n",
            "Epoch 17/50\n",
            "8/8 [==============================] - 1s 66ms/step - loss: 0.6042 - accuracy: 0.6549 - val_loss: 0.7117 - val_accuracy: 0.3404\n",
            "Epoch 18/50\n",
            "8/8 [==============================] - 0s 60ms/step - loss: 0.5931 - accuracy: 0.7133 - val_loss: 0.7293 - val_accuracy: 0.3277\n",
            "Epoch 19/50\n",
            "8/8 [==============================] - 1s 72ms/step - loss: 0.5878 - accuracy: 0.7111 - val_loss: 0.7463 - val_accuracy: 0.2936\n",
            "Epoch 20/50\n",
            "8/8 [==============================] - 0s 61ms/step - loss: 0.5786 - accuracy: 0.7244 - val_loss: 0.7544 - val_accuracy: 0.2936\n",
            "Epoch 21/50\n",
            "8/8 [==============================] - 1s 69ms/step - loss: 0.5700 - accuracy: 0.7321 - val_loss: 0.7632 - val_accuracy: 0.2979\n",
            "Epoch 22/50\n",
            "8/8 [==============================] - 0s 62ms/step - loss: 0.5652 - accuracy: 0.7552 - val_loss: 0.7753 - val_accuracy: 0.3106\n",
            "Epoch 23/50\n",
            "8/8 [==============================] - 1s 70ms/step - loss: 0.5522 - accuracy: 0.7574 - val_loss: 0.7933 - val_accuracy: 0.3021\n",
            "Epoch 24/50\n",
            "8/8 [==============================] - 1s 66ms/step - loss: 0.5474 - accuracy: 0.7486 - val_loss: 0.7851 - val_accuracy: 0.3064\n",
            "Epoch 25/50\n",
            "8/8 [==============================] - 0s 64ms/step - loss: 0.5266 - accuracy: 0.7806 - val_loss: 0.8037 - val_accuracy: 0.2979\n",
            "Epoch 26/50\n",
            "8/8 [==============================] - 0s 59ms/step - loss: 0.5254 - accuracy: 0.7663 - val_loss: 0.8182 - val_accuracy: 0.3149\n",
            "Epoch 27/50\n",
            "8/8 [==============================] - 0s 64ms/step - loss: 0.5068 - accuracy: 0.7982 - val_loss: 0.8105 - val_accuracy: 0.3404\n",
            "Epoch 28/50\n",
            "8/8 [==============================] - 1s 84ms/step - loss: 0.4943 - accuracy: 0.7872 - val_loss: 0.8252 - val_accuracy: 0.3319\n",
            "Epoch 29/50\n",
            "8/8 [==============================] - 1s 95ms/step - loss: 0.4855 - accuracy: 0.7530 - val_loss: 0.8381 - val_accuracy: 0.3319\n",
            "Epoch 30/50\n",
            "8/8 [==============================] - 1s 110ms/step - loss: 0.4703 - accuracy: 0.7894 - val_loss: 0.7508 - val_accuracy: 0.4170\n",
            "Epoch 31/50\n",
            "8/8 [==============================] - 1s 72ms/step - loss: 0.4575 - accuracy: 0.8148 - val_loss: 0.7444 - val_accuracy: 0.4383\n",
            "Epoch 32/50\n",
            "8/8 [==============================] - 1s 66ms/step - loss: 0.4366 - accuracy: 0.8269 - val_loss: 0.7329 - val_accuracy: 0.4766\n",
            "Epoch 33/50\n",
            "8/8 [==============================] - 0s 65ms/step - loss: 0.4289 - accuracy: 0.8060 - val_loss: 0.7452 - val_accuracy: 0.4340\n",
            "Epoch 34/50\n",
            "8/8 [==============================] - 0s 58ms/step - loss: 0.4076 - accuracy: 0.8490 - val_loss: 0.6183 - val_accuracy: 0.6851\n",
            "Epoch 35/50\n",
            "8/8 [==============================] - 1s 68ms/step - loss: 0.4129 - accuracy: 0.8335 - val_loss: 0.6670 - val_accuracy: 0.5532\n",
            "Epoch 36/50\n",
            "8/8 [==============================] - 1s 105ms/step - loss: 0.3818 - accuracy: 0.8512 - val_loss: 0.6056 - val_accuracy: 0.6511\n",
            "Epoch 37/50\n",
            "8/8 [==============================] - 1s 68ms/step - loss: 0.3773 - accuracy: 0.8600 - val_loss: 0.5708 - val_accuracy: 0.7532\n",
            "Epoch 38/50\n",
            "8/8 [==============================] - 0s 63ms/step - loss: 0.3640 - accuracy: 0.8600 - val_loss: 0.7035 - val_accuracy: 0.5064\n",
            "Epoch 39/50\n",
            "8/8 [==============================] - 0s 64ms/step - loss: 0.3405 - accuracy: 0.8743 - val_loss: 0.6014 - val_accuracy: 0.8085\n",
            "Epoch 40/50\n",
            "8/8 [==============================] - 0s 63ms/step - loss: 0.3570 - accuracy: 0.8743 - val_loss: 0.6344 - val_accuracy: 0.6681\n",
            "Epoch 41/50\n",
            "8/8 [==============================] - 0s 61ms/step - loss: 0.3413 - accuracy: 0.8600 - val_loss: 0.6563 - val_accuracy: 0.5745\n",
            "Epoch 42/50\n",
            "8/8 [==============================] - 0s 58ms/step - loss: 0.3372 - accuracy: 0.8710 - val_loss: 0.5373 - val_accuracy: 0.8213\n",
            "Epoch 43/50\n",
            "8/8 [==============================] - 0s 64ms/step - loss: 0.3162 - accuracy: 0.8842 - val_loss: 0.5716 - val_accuracy: 0.6638\n",
            "Epoch 44/50\n",
            "8/8 [==============================] - 1s 66ms/step - loss: 0.2985 - accuracy: 0.8975 - val_loss: 0.5041 - val_accuracy: 0.7787\n",
            "Epoch 45/50\n",
            "8/8 [==============================] - 1s 72ms/step - loss: 0.2777 - accuracy: 0.9063 - val_loss: 0.4970 - val_accuracy: 0.7787\n",
            "Epoch 46/50\n",
            "8/8 [==============================] - 0s 62ms/step - loss: 0.2858 - accuracy: 0.8975 - val_loss: 0.5305 - val_accuracy: 0.6894\n",
            "Epoch 47/50\n",
            "8/8 [==============================] - 0s 64ms/step - loss: 0.2869 - accuracy: 0.8886 - val_loss: 0.4252 - val_accuracy: 0.8213\n",
            "Epoch 48/50\n",
            "8/8 [==============================] - 0s 64ms/step - loss: 0.2607 - accuracy: 0.9107 - val_loss: 0.4082 - val_accuracy: 0.8383\n",
            "Epoch 49/50\n",
            "8/8 [==============================] - 1s 69ms/step - loss: 0.2477 - accuracy: 0.9294 - val_loss: 0.4135 - val_accuracy: 0.8340\n",
            "Epoch 50/50\n",
            "8/8 [==============================] - 0s 57ms/step - loss: 0.2508 - accuracy: 0.9030 - val_loss: 0.4555 - val_accuracy: 0.7787\n",
            "8/8 [==============================] - 0s 14ms/step - loss: 0.4555 - accuracy: 0.7787\n"
          ]
        }
      ]
    },
    {
      "cell_type": "code",
      "source": [
        "np.mean(accuracy)\n"
      ],
      "metadata": {
        "colab": {
          "base_uri": "https://localhost:8080/"
        },
        "id": "qc7cUbWLqE8c",
        "outputId": "1ba7bdc5-ab32-4e3d-afa6-7d43d9b53863"
      },
      "execution_count": 29,
      "outputs": [
        {
          "output_type": "execute_result",
          "data": {
            "text/plain": [
              "0.7249340772628784"
            ]
          },
          "metadata": {},
          "execution_count": 29
        }
      ]
    },
    {
      "cell_type": "code",
      "source": [],
      "metadata": {
        "id": "S0FaK7eYqLts"
      },
      "execution_count": null,
      "outputs": []
    }
  ]
}